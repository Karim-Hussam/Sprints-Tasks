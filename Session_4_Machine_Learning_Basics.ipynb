{
 "cells": [
  {
   "cell_type": "markdown",
   "metadata": {
    "id": "_iy0pyqlqwnV"
   },
   "source": [
    "## Import libraries"
   ]
  },
  {
   "cell_type": "code",
   "execution_count": 1,
   "metadata": {
    "id": "nC96btiHqke-"
   },
   "outputs": [],
   "source": [
    "import numpy as np\n",
    "import pandas as pd\n",
    "import matplotlib.pyplot as plt\n",
    "from sklearn import metrics"
   ]
  },
  {
   "cell_type": "markdown",
   "metadata": {
    "id": "rZJ5GCvOq2jK"
   },
   "source": [
    "## Load the data"
   ]
  },
  {
   "cell_type": "code",
   "execution_count": 2,
   "metadata": {
    "colab": {
     "base_uri": "https://localhost:8080/"
    },
    "id": "vdnQzKVhq3Mf",
    "outputId": "56932fbe-b0bf-461b-87c8-09e990baadc7"
   },
   "outputs": [
    {
     "name": "stdout",
     "output_type": "stream",
     "text": [
      "               SAT          IQ        GPA\n",
      "count    84.000000   84.000000  84.000000\n",
      "mean   1845.273810  111.928571   3.330238\n",
      "std     104.530661    8.050721   0.271617\n",
      "min    1634.000000   96.000000   2.400000\n",
      "25%    1772.000000  106.000000   3.190000\n",
      "50%    1846.000000  112.000000   3.380000\n",
      "75%    1934.000000  119.000000   3.502500\n",
      "max    2050.000000  128.000000   3.810000\n",
      "(84, 3)\n",
      "(84,)\n"
     ]
    }
   ],
   "source": [
    "data = pd.read_csv('USA_Students.csv')\n",
    "print(data.describe())\n",
    "X=data['SAT']\n",
    "Y=data['GPA']\n",
    "print(data.shape)\n",
    "print(X.shape)"
   ]
  },
  {
   "cell_type": "markdown",
   "metadata": {
    "id": "pXTzCL1yq5Yj"
   },
   "source": [
    "## Plot the samples"
   ]
  },
  {
   "cell_type": "code",
   "execution_count": 3,
   "metadata": {
    "colab": {
     "base_uri": "https://localhost:8080/",
     "height": 288
    },
    "id": "NntuwwQgq8IZ",
    "outputId": "9695f848-3dcd-4f26-d6b1-2d70f961500b"
   },
   "outputs": [
    {
     "data": {
      "image/png": "[encoded data removed]",
      "text/plain": [
       "<Figure size 432x288 with 1 Axes>"
      ]
     },
     "metadata": {
      "needs_background": "light"
     },
     "output_type": "display_data"
    }
   ],
   "source": [
    "plt.scatter(X, Y)\n",
    "plt.xlabel('SAT', fontsize = 20)\n",
    "plt.ylabel('GPA', fontsize = 20)\n",
    "plt.show()"
   ]
  },
  {
   "cell_type": "markdown",
   "metadata": {
    "id": "cXs7utKJq_Vj"
   },
   "source": [
    "## Hyper-prameters"
   ]
  },
  {
   "cell_type": "code",
   "execution_count": 4,
   "metadata": {
    "id": "-iAcECVcrEE7"
   },
   "outputs": [],
   "source": [
    "L = 0.0000001  # The learning Rate\n",
    "epochs = 100  # The number of iterations to perform gradient descent\n",
    "m=0\n",
    "c=0\n",
    "n = float(len(X)) # Number of elements in X"
   ]
  },
  {
   "cell_type": "markdown",
   "metadata": {
    "id": "h7q5g-WmrHCg"
   },
   "source": [
    "## Gradient Descent Algorithm"
   ]
  },
  {
   "cell_type": "code",
   "execution_count": 5,
   "metadata": {
    "id": "bvTWIbTarJ-Z"
   },
   "outputs": [],
   "source": [
    "for i in range(epochs):\n",
    "\n",
    "    # Step 1 : Calculate YHAT\n",
    "    Y_pred = m*X + c  # The current predicted value of Y\n",
    "    \n",
    "    # Step 2 : Get Gradients\n",
    "    D_m = (-2/n) * sum(X * (Y - Y_pred))  # Derivative wrt m\n",
    "    D_c = (-2/n) * sum(Y - Y_pred)  # Derivative wrt c\n",
    "    \n",
    "    # Step : Update\n",
    "    m = m - L * D_m  # Update m\n",
    "    c = c - L * D_c  # Update c"
   ]
  },
  {
   "cell_type": "markdown",
   "metadata": {
    "id": "HNt8biVHrLPB"
   },
   "source": [
    "## Evaluation"
   ]
  },
  {
   "cell_type": "code",
   "execution_count": 6,
   "metadata": {
    "colab": {
     "base_uri": "https://localhost:8080/",
     "height": 305
    },
    "id": "xqNURTC9rOwj",
    "outputId": "9f5a9dff-e76b-419b-b440-2dbb3e9fa3a2"
   },
   "outputs": [
    {
     "data": {
      "image/png": "[encoded data removed]",
      "text/plain": [
       "<Figure size 432x288 with 1 Axes>"
      ]
     },
     "metadata": {
      "needs_background": "light"
     },
     "output_type": "display_data"
    },
    {
     "name": "stdout",
     "output_type": "stream",
     "text": [
      "Mean Square Error 0.043539966469155686\n"
     ]
    }
   ],
   "source": [
    "prediction=X*m+c\n",
    "plt.scatter(X, Y)\n",
    "plt.xlabel('SAT', fontsize = 20)\n",
    "plt.ylabel('GPA', fontsize = 20)\n",
    "plt.plot(X, prediction, color='red', linewidth = 3)\n",
    "plt.show()\n",
    "\n",
    "print('Mean Square Error', metrics.mean_squared_error(Y, prediction))"
   ]
  },
  {
   "cell_type": "markdown",
   "metadata": {
    "id": "AOAUQePPr0Jd"
   },
   "source": [
    "## Prediction"
   ]
  },
  {
   "cell_type": "code",
   "execution_count": 7,
   "metadata": {
    "colab": {
     "base_uri": "https://localhost:8080/"
    },
    "id": "w6cQEOoArz0-",
    "outputId": "ce002707-8370-4da3-a55f-7b89628b940b"
   },
   "outputs": [
    {
     "name": "stdout",
     "output_type": "stream",
     "text": [
      "Enter your SAT score: 1000\n",
      "Your predicted GPA is 1.8042686062610187\n"
     ]
    }
   ],
   "source": [
    "#Predict your GPA based on your SAT Score\n",
    "STA_Score=int(input('Enter your SAT score: '))\n",
    "y_test=m*STA_Score + c\n",
    "print('Your predicted GPA is ' + str(float(y_test)))"
   ]
  },
  {
   "cell_type": "markdown",
   "metadata": {
    "id": "WHqX0Ajr9HGU"
   },
   "source": [
    "# Exercise 3"
   ]
  },
  {
   "cell_type": "markdown",
   "metadata": {
    "id": "K2xpDHTF9qlm"
   },
   "source": [
    "## Feature Encoding"
   ]
  },
  {
   "cell_type": "code",
   "execution_count": 8,
   "metadata": {
    "id": "UTn7M5DX9sTE"
   },
   "outputs": [],
   "source": [
    "from sklearn.preprocessing import LabelEncoder\n",
    "def Feature_Encoder(X,cols):\n",
    "    for c in cols:\n",
    "        lbl = LabelEncoder()\n",
    "        lbl.fit(list(X[c].values))\n",
    "        X[c] = lbl.transform(list(X[c].values))\n",
    "    return X"
   ]
  },
  {
   "cell_type": "markdown",
   "metadata": {
    "id": "yWuaAPV29wsS"
   },
   "source": [
    "## Data preprocessing"
   ]
  },
  {
   "cell_type": "code",
   "execution_count": 9,
   "metadata": {
    "colab": {
     "base_uri": "https://localhost:8080/",
     "height": 1000
    },
    "id": "0OM4se_a9LcM",
    "outputId": "045fe8cb-b3f2-44d1-937c-5e310b6582d6"
   },
   "outputs": [
    {
     "name": "stdout",
     "output_type": "stream",
     "text": [
      "       Age Nationality  Overall  Potential                 Club Position  \\\n",
      "0       31   Argentina       94         94         FC Barcelona       RF   \n",
      "1       33    Portugal       94         94             Juventus       ST   \n",
      "2       26      Brazil       92         93  Paris Saint-Germain       LW   \n",
      "3       27       Spain       91         93    Manchester United       GK   \n",
      "4       27     Belgium       91         92      Manchester City      RCM   \n",
      "...    ...         ...      ...        ...                  ...      ...   \n",
      "17950   19     England       47         65      Crewe Alexandra       CM   \n",
      "17951   19      Sweden       47         63       Trelleborgs FF       ST   \n",
      "17952   16     England       47         67     Cambridge United       ST   \n",
      "17953   17     England       47         66      Tranmere Rovers       RW   \n",
      "17954   16     England       46         66      Tranmere Rovers       CM   \n",
      "\n",
      "       Crossing  Finishing  HeadingAccuracy  ShortPassing  ...  Vision  \\\n",
      "0          84.0       95.0             70.0          90.0  ...    94.0   \n",
      "1          84.0       94.0             89.0          81.0  ...    82.0   \n",
      "2          79.0       87.0             62.0          84.0  ...    87.0   \n",
      "3          17.0       13.0             21.0          50.0  ...    68.0   \n",
      "4          93.0       82.0             55.0          92.0  ...    94.0   \n",
      "...         ...        ...              ...           ...  ...     ...   \n",
      "17950      34.0       38.0             40.0          49.0  ...    52.0   \n",
      "17951      23.0       52.0             52.0          43.0  ...    33.0   \n",
      "17952      25.0       40.0             46.0          38.0  ...    43.0   \n",
      "17953      44.0       50.0             39.0          42.0  ...    47.0   \n",
      "17954      41.0       34.0             46.0          48.0  ...    49.0   \n",
      "\n",
      "       Penalties  Composure  Marking  StandingTackle  SlidingTackle  GKDiving  \\\n",
      "0           75.0       96.0     33.0            28.0           26.0       6.0   \n",
      "1           85.0       95.0     28.0            31.0           23.0       7.0   \n",
      "2           81.0       94.0     27.0            24.0           33.0       9.0   \n",
      "3           40.0       68.0     15.0            21.0           13.0      90.0   \n",
      "4           79.0       88.0     68.0            58.0           51.0      15.0   \n",
      "...          ...        ...      ...             ...            ...       ...   \n",
      "17950       43.0       45.0     40.0            48.0           47.0      10.0   \n",
      "17951       43.0       42.0     22.0            15.0           19.0      10.0   \n",
      "17952       55.0       41.0     32.0            13.0           11.0       6.0   \n",
      "17953       50.0       46.0     20.0            25.0           27.0      14.0   \n",
      "17954       33.0       43.0     40.0            43.0           50.0      10.0   \n",
      "\n",
      "       GKHandling  GKKicking  GKPositioning  \n",
      "0            11.0       15.0           14.0  \n",
      "1            11.0       15.0           14.0  \n",
      "2             9.0       15.0           15.0  \n",
      "3            85.0       87.0           88.0  \n",
      "4            13.0        5.0           10.0  \n",
      "...           ...        ...            ...  \n",
      "17950        13.0        7.0            8.0  \n",
      "17951         9.0        9.0            5.0  \n",
      "17952         5.0       10.0            6.0  \n",
      "17953         6.0       14.0            8.0  \n",
      "17954        15.0        9.0           12.0  \n",
      "\n",
      "[17907 rows x 39 columns]\n"
     ]
    },
    {
     "data": {
      "image/png": "[encoded data removed]",
      "text/plain": [
       "<Figure size 864x576 with 2 Axes>"
      ]
     },
     "metadata": {
      "needs_background": "light"
     },
     "output_type": "display_data"
    }
   ],
   "source": [
    "# Import libraries\n",
    "import numpy as np\n",
    "import pandas as pd\n",
    "import seaborn as sns\n",
    "import matplotlib.pyplot as plt\n",
    "from sklearn import linear_model\n",
    "from sklearn import metrics\n",
    "from sklearn.model_selection import train_test_split\n",
    "\n",
    "# Pre-processing\n",
    "#Load players data\n",
    "data = pd.read_csv('fifa19.csv')\n",
    "#Drop the rows that contain missing values\n",
    "data.dropna(how='any',inplace=True)\n",
    "fifa_data=data.iloc[:,:]\n",
    "X=data.iloc[:,1:40] #Features\n",
    "print(X)\n",
    "Y=data['Value'] #Label\n",
    "cols=('Nationality','Club','Position')\n",
    "X=Feature_Encoder(X,cols);\n",
    "\n",
    "#Split the data to training and testing sets\n",
    "X_train, X_test, y_train, y_test = train_test_split(X, Y, test_size = 0.30,shuffle=True)\n",
    "#Get the correlation between the features\n",
    "corr = fifa_data.corr()\n",
    "#Top 50% Correlation training features with the Value\n",
    "top_feature = corr.index[abs(corr['Value']>0.5)]\n",
    "#Correlation plot\n",
    "plt.subplots(figsize=(12, 8))\n",
    "top_corr = fifa_data[top_feature].corr()\n",
    "sns.heatmap(top_corr, annot=True)\n",
    "plt.show()"
   ]
  },
  {
   "cell_type": "markdown",
   "metadata": {
    "id": "Ztb9rLzz98bI"
   },
   "source": [
    "## Multiple Linear Regression"
   ]
  },
  {
   "cell_type": "code",
   "execution_count": 10,
   "metadata": {
    "id": "MON9RfRu-GBk"
   },
   "outputs": [],
   "source": [
    "cls = linear_model.LinearRegression()\n",
    "\n",
    "L = 0.0000001  # The learning Rate\n",
    "epochs = 1000  # The number of iterations to perform gradient descent\n",
    "m1 = 0\n",
    "m2 = 0\n",
    "m3 = 0\n",
    "c = 0\n",
    "n = float(len(X_train)) # Number of elements in X\n",
    "for i in range(epochs):\n",
    "    # Student code\n",
    "    y_pred = X[\"Overall\"] * m1 + X[\"Potential\"] * m2 + X[\"Reactions\"] * m3 + c\n",
    "    \n",
    "    mm1 = (-2/n) * sum(X[\"Overall\"] * (Y - y_pred))\n",
    "    mm2 = (-2/n) * sum(X[\"Potential\"] * (Y - y_pred))\n",
    "    mm3 = (-2/n) * sum(X[\"Reactions\"] * (Y - y_pred))\n",
    "    cc = (-2/n) * sum(Y - y_pred)\n",
    "    \n",
    "    m1 = m1 - L * mm1\n",
    "    m2 = m2 - L * mm2\n",
    "    m3 = m3 - L * mm3\n",
    "    c = c - L * cc\n",
    "    # Student code\n"
   ]
  },
  {
   "cell_type": "markdown",
   "metadata": {
    "id": "FmBrijtU-UQi"
   },
   "source": [
    "## Prediction"
   ]
  },
  {
   "cell_type": "code",
   "execution_count": 11,
   "metadata": {
    "colab": {
     "base_uri": "https://localhost:8080/"
    },
    "id": "_Do_JSiF-VSh",
    "outputId": "e9bd336d-77f4-4b5b-9f06-884ef78ee697"
   },
   "outputs": [
    {
     "name": "stdout",
     "output_type": "stream",
     "text": [
      "Co-efficient of linear regression [-2.84521011e-01 -3.65103448e-04  5.49886594e-01  5.77131038e-02\n",
      "  1.94397085e-04 -5.49557876e-03 -3.10665670e-03  1.54282966e-02\n",
      " -1.41032159e-02 -1.16523962e-02  3.43259057e-02 -5.26328853e-03\n",
      " -1.81531644e-03  1.12778427e-02  8.54896300e-03 -5.02302538e-02\n",
      " -7.82492029e-03 -4.69833908e-03 -2.62317914e-02  5.83357408e-02\n",
      "  1.34969999e-02 -2.06135964e-02  5.68875157e-03 -2.24054803e-03\n",
      " -1.27812661e-02 -2.40288704e-02  1.22411779e-04 -1.33984196e-02\n",
      "  1.16121510e-02  2.29655750e-02 -1.72071943e-03  1.06375121e-02\n",
      "  1.20937955e-02  3.17218048e-03 -1.04109351e-02 -7.88276308e-03\n",
      " -1.62201546e-02 -8.61965645e-03 -1.86155856e-02]\n",
      "Intercept of linear regression model -29.405296357385488\n",
      "Mean Square Error 34.429589041285624\n",
      "Mean Square Error 2 18.54225801075448\n",
      "True value for the first player in the test set in millions is : 1.8\n",
      "Predicted value for the first player in the test set in millions is : 1.7680166660887844\n"
     ]
    }
   ],
   "source": [
    "prediction=np.array(X_test)[:,0]*m1+np.array(X_test)[:,1]*m2+np.array(X_test)[:,2]*m3+c\n",
    "\n",
    "cls.fit(X_train,y_train)\n",
    "prediction2= cls.predict(X_test)\n",
    "\n",
    "print('Co-efficient of linear regression',cls.coef_)\n",
    "print('Intercept of linear regression model',cls.intercept_)\n",
    "print('Mean Square Error', metrics.mean_squared_error(np.asarray(y_test), prediction))\n",
    "print('Mean Square Error 2', metrics.mean_squared_error(np.asarray(y_test), prediction2))\n",
    "\n",
    "true_player_value=np.asarray(y_test)[1]\n",
    "predicted_player_value=prediction[1]\n",
    "\n",
    "print('True value for the first player in the test set in millions is : ' + str(true_player_value))\n",
    "print('Predicted value for the first player in the test set in millions is : ' + str(predicted_player_value))"
   ]
  },
  {
   "cell_type": "markdown",
   "metadata": {
    "id": "23JLL0Q3-WV4"
   },
   "source": [
    "## Polynomial Regression"
   ]
  },
  {
   "cell_type": "code",
   "execution_count": 12,
   "metadata": {
    "colab": {
     "base_uri": "https://localhost:8080/",
     "height": 1000
    },
    "id": "rIpjp5CJ-Xrc",
    "outputId": "0a8b8b3a-978d-40da-ea5b-df077577fbe0"
   },
   "outputs": [
    {
     "data": {
      "image/png": "[encoded data removed]",
      "text/plain": [
       "<Figure size 864x576 with 2 Axes>"
      ]
     },
     "metadata": {
      "needs_background": "light"
     },
     "output_type": "display_data"
    },
    {
     "name": "stdout",
     "output_type": "stream",
     "text": [
      "Co-efficient of linear regression [ 7.83176231e-12  4.10639556e+00  1.53186127e-02 -6.35696455e+00\n",
      "  4.66638736e-01  3.64957054e-03  1.43582004e-01  1.52735750e-02\n",
      " -1.42911405e-01  1.23430399e-01  5.14174284e-02 -1.95034791e-01\n",
      "  8.68536314e-02  1.11205055e-01 -2.63396275e-01 -9.52122598e-02\n",
      "  2.81318762e-01  2.22148326e-01 -6.64025662e-02  1.03810271e-01\n",
      " -4.32174053e-01 -4.89428884e-03  2.66096444e-01 -3.06153127e-02\n",
      "  4.62986931e-02  8.09438327e-02  9.78205228e-02  5.45525216e-02\n",
      " -2.60314167e-02 -9.75592753e-02 -1.75211020e-01  3.62045479e-02\n",
      " -6.62127500e-02 -1.12546349e-01 -1.15351767e-01  4.27916086e-01\n",
      "  7.93423639e-02  2.07559416e-01  6.84200697e-02  1.52287145e-01\n",
      " -9.48271704e-03  2.36973879e-04 -3.92822975e-02 -2.30846275e-02\n",
      " -8.27072768e-05  1.64171662e-03  2.17044982e-03 -4.82278778e-04\n",
      "  1.27123664e-04  3.81909582e-03 -1.72867786e-03  3.40085682e-03\n",
      " -1.91010577e-03  1.71318407e-03 -3.91380821e-03  1.68458091e-03\n",
      " -9.99455402e-04  1.47461224e-03  8.22940323e-04 -1.33054090e-03\n",
      " -2.25986500e-03  3.03814608e-03  2.07127900e-03 -3.96988066e-04\n",
      "  3.45394125e-04 -6.94201725e-04 -1.69187742e-04  3.89612736e-03\n",
      "  1.20410526e-03 -1.26521837e-03 -3.92556624e-04 -2.37145455e-03\n",
      " -2.26089106e-04  4.44125643e-03 -5.07863949e-03  4.28353168e-03\n",
      " -3.01667707e-03  1.62059636e-03  4.77552357e-03 -4.43145050e-06\n",
      " -5.51730122e-04 -4.10677402e-05 -1.55376928e-06  1.19532688e-04\n",
      " -3.51148664e-05  8.70283703e-05  1.25205982e-04  2.89948232e-05\n",
      " -5.22465639e-05  9.55732689e-05 -2.42870697e-05 -3.05968409e-05\n",
      " -1.05201080e-06  1.34526678e-05 -9.62918264e-06  1.04968202e-04\n",
      "  1.14361783e-04 -1.23562323e-04 -1.39750499e-04  5.19374368e-05\n",
      "  2.73636237e-05 -9.03760924e-05 -6.16022651e-05 -1.06538297e-04\n",
      "  5.50947425e-05  4.90185038e-05 -5.91922759e-05  1.15899714e-04\n",
      " -2.03528716e-05  2.02470743e-05  5.72861842e-05  2.38105216e-04\n",
      " -1.72825886e-04  1.73205995e-05  6.98446260e-05  8.49970910e-05\n",
      "  8.14378654e-05  6.31422580e-02  1.47849174e-02  3.79390012e-05\n",
      " -8.34276122e-04 -3.89788988e-03  1.12228205e-03 -1.56088538e-03\n",
      "  2.33162831e-04  5.47625892e-03 -7.69208990e-03  1.96111396e-03\n",
      "  2.25110351e-03  2.96039655e-03 -3.47491993e-03 -2.46669330e-03\n",
      " -1.16877258e-03  4.24443975e-05  1.79236931e-03  3.64272590e-03\n",
      " -5.68905105e-03 -1.89663125e-03 -6.36323716e-04 -9.40626961e-04\n",
      " -1.71552956e-03 -4.83114396e-04 -6.20908277e-04  6.23349738e-04\n",
      " -2.01893212e-03 -1.50715579e-03  2.66916926e-03  2.65211789e-04\n",
      " -7.40949298e-03  5.43209688e-04 -9.18132798e-03 -9.07043983e-04\n",
      "  1.54044097e-03 -8.90012034e-03 -5.91758203e-03 -4.28738493e-05\n",
      " -4.19865510e-04  1.36066591e-03  4.23440570e-04  7.79213024e-04\n",
      "  4.70443808e-04 -2.97578096e-04  9.57028933e-04 -1.26069915e-03\n",
      "  1.94870466e-03 -1.18167223e-03  4.03545640e-04 -1.71424207e-03\n",
      "  1.10783493e-03 -1.34243947e-03  1.82457683e-03 -1.65018534e-05\n",
      " -3.28867824e-04  6.59787410e-04 -1.19283465e-03 -2.92829494e-04\n",
      " -1.60874013e-03 -6.78748504e-04  3.63234626e-04  8.28795299e-04\n",
      "  6.94094967e-04  1.32131339e-03 -2.13639486e-03  1.08590713e-03\n",
      "  3.92213799e-03 -4.86894584e-03  1.22570782e-03 -1.36746224e-03\n",
      " -1.63847141e-03  3.32295197e-03 -1.42060285e-06  6.38529901e-06\n",
      "  4.62926164e-06 -1.83168546e-06 -1.51359877e-05 -6.42882181e-05\n",
      "  6.88762376e-06 -1.02679419e-05  8.74028655e-06  7.87977612e-07\n",
      "  2.05442372e-05  4.90571199e-05  4.19648104e-06 -8.59901242e-06\n",
      "  5.70277745e-06  2.71828361e-05 -1.05254029e-05 -1.07062125e-05\n",
      " -9.48666970e-06  1.23778494e-05  1.00471688e-05  2.61830433e-06\n",
      "  3.32989119e-06  5.45372199e-06 -1.55460913e-05  6.89786865e-07\n",
      " -6.02278525e-06  8.84498138e-06  3.98506468e-06 -1.06384348e-05\n",
      " -5.94399664e-06 -3.32215298e-05 -4.18013778e-05  1.61826260e-05\n",
      "  3.47588166e-05 -9.03713661e-04 -2.42842603e-04 -7.36916778e-04\n",
      " -4.97929182e-04  7.69829548e-04 -5.89224078e-04  1.21870944e-03\n",
      " -2.46172006e-05 -1.88962755e-04 -1.23659784e-04 -7.62362658e-04\n",
      "  5.22800367e-04 -5.80366289e-04  7.80704979e-04  6.49545922e-04\n",
      " -1.20013002e-03  3.93748655e-04  9.33475602e-05 -2.95428400e-04\n",
      " -4.17467444e-04 -5.48698214e-05 -2.94517736e-04  1.74924221e-06\n",
      "  2.70558318e-04  1.61417598e-04  1.19224137e-04 -5.62787528e-04\n",
      " -5.33302580e-04  3.82863703e-04 -2.44106033e-04  4.27957518e-04\n",
      " -4.18372254e-04  3.95948825e-05  8.84111024e-04  1.01984300e-04\n",
      " -4.07538782e-04  9.20651676e-04  2.89581714e-05  8.31324009e-05\n",
      " -7.41150428e-04  3.62223430e-04 -4.35079361e-04 -5.04548709e-04\n",
      " -2.90157272e-04  3.39505576e-04 -3.47540831e-04 -4.24668830e-04\n",
      "  9.33505623e-04  8.70275982e-04  1.91604076e-04 -4.05705335e-04\n",
      "  9.17571217e-05  4.10735110e-04  4.80195743e-07  6.19519639e-06\n",
      "  4.42220280e-04  1.11554243e-04  4.58435984e-04 -3.25639908e-05\n",
      " -1.90356287e-04  4.61623286e-04 -1.30188765e-04 -6.28612435e-04\n",
      "  4.46266434e-04  4.24720699e-04 -7.43148298e-04 -2.67244396e-04\n",
      " -1.89450625e-04 -3.64621937e-05  6.91302306e-04  4.03349534e-04\n",
      " -5.58589673e-06  3.45580578e-04 -7.50739842e-05 -2.17269109e-04\n",
      " -1.74671352e-03  2.07875263e-04  2.12815841e-04 -1.06398880e-04\n",
      "  5.20946304e-04  1.08409387e-04  5.82945865e-05  4.06446596e-04\n",
      "  1.31749796e-05  8.44810837e-05 -5.95639992e-05  1.22778060e-04\n",
      " -2.43869862e-05  2.61279516e-04  5.63731843e-04 -4.28652156e-04\n",
      "  1.88520639e-04  9.02435744e-04 -9.68970472e-05 -5.74285818e-04\n",
      "  8.65514162e-04  1.01244456e-03 -1.50876382e-03 -1.04529549e-03\n",
      " -7.69512424e-04 -6.55296155e-04 -2.57977896e-04 -3.36641819e-04\n",
      " -5.45593654e-05 -6.55161205e-04 -1.45355585e-04 -3.86617386e-04\n",
      "  9.56608645e-04 -8.73432421e-04 -6.89304489e-04  9.77542904e-04\n",
      " -2.12535492e-04  2.73987065e-04  6.61310782e-05  6.94710025e-04\n",
      " -5.42775032e-04 -3.07817319e-04  3.99633562e-04 -4.93600872e-04\n",
      "  1.02420805e-04  1.51077440e-03  5.00354144e-04 -5.24042055e-04\n",
      "  1.32524982e-05 -4.60410906e-04  4.05448188e-04 -8.50117593e-04\n",
      " -1.25323790e-03  3.89954946e-04  8.17642158e-04 -8.60416137e-04\n",
      " -1.02103619e-03  7.15010195e-04 -2.26177617e-04 -7.02838628e-04\n",
      " -3.67347764e-04 -8.06447207e-04  2.16438141e-04  6.83082172e-04\n",
      " -9.33823716e-05 -1.34733873e-03 -4.87178720e-04  1.12964593e-03\n",
      "  4.60619358e-04 -7.84233046e-04 -6.06522142e-04  7.70918942e-04\n",
      " -6.91482145e-04  1.09864917e-03 -1.72449145e-04  7.83994466e-04\n",
      " -2.96554590e-04 -2.54157698e-04 -8.45069822e-04  6.44781501e-04\n",
      "  8.20778779e-04  1.55645406e-03  9.27124384e-05 -2.84784201e-04\n",
      " -2.28750098e-03 -1.46745089e-05 -2.05529195e-04  3.19847667e-04\n",
      "  3.01130492e-04 -2.27060253e-04  1.91041284e-04  2.94518224e-04\n",
      " -2.39940460e-04 -5.09376457e-05 -7.10258537e-04  2.86502996e-05\n",
      " -7.05539921e-04  2.02177175e-06 -3.15514547e-04  1.84853968e-04\n",
      "  1.45488808e-04  1.37259152e-04 -3.73429518e-04 -3.71194731e-05\n",
      "  4.07303900e-04  1.77221574e-04  2.45829521e-05 -6.24178053e-04\n",
      "  5.70942892e-04  2.98250013e-04 -4.45470063e-04  6.14764679e-04\n",
      "  1.16323371e-03 -1.87926539e-03  1.34087079e-03 -1.77414414e-04\n",
      "  2.49151628e-04 -5.67714849e-04 -7.43251417e-04  2.52037120e-04\n",
      "  2.38042674e-04 -1.07585723e-03 -4.56068117e-04 -2.82042836e-04\n",
      "  7.37167664e-04  6.28575507e-04 -1.93416529e-04  7.74838960e-04\n",
      " -4.48491507e-04  7.03275250e-04  3.69100581e-04 -1.08172523e-04\n",
      " -4.08320050e-04  1.13984413e-04  5.73421686e-04 -1.00911020e-03\n",
      " -1.82387250e-04  2.20912460e-03  4.48166042e-04  1.04582159e-03\n",
      "  1.96987836e-04  7.96687108e-04 -4.99482731e-04  2.93117552e-04\n",
      "  5.11678431e-04  2.45488144e-04 -5.14842421e-04 -1.01090722e-04\n",
      "  4.66116889e-04 -2.50852809e-04 -4.54643704e-04  2.26957330e-04\n",
      "  5.99264977e-05 -2.60061902e-04 -1.55154875e-04  5.57237560e-05\n",
      " -3.42563269e-04 -1.47741746e-04 -6.27096764e-05 -4.47369118e-04\n",
      " -6.22875745e-05 -3.93053666e-04 -6.76746002e-05 -5.76642856e-04\n",
      "  1.03270858e-03 -1.22248312e-03 -5.12933443e-04 -6.18401568e-04\n",
      "  2.04597189e-03 -2.34907993e-04  1.62024618e-04 -4.23411534e-04\n",
      "  2.60485303e-04  1.17238946e-04 -1.80403143e-04  1.82731171e-04\n",
      " -1.32220607e-05 -3.83326763e-04  1.73780433e-04  2.28992319e-04\n",
      "  9.64021514e-05 -7.21142877e-05  3.39506109e-05 -1.43487515e-04\n",
      "  1.10781969e-04 -1.86262714e-04 -1.16796189e-04  5.66327534e-04\n",
      "  2.33027163e-06  1.02942138e-03 -1.00206037e-03 -4.02122606e-04\n",
      " -4.98159520e-04  5.93170991e-04 -1.08038618e-03 -9.79448035e-07\n",
      "  3.20347419e-04  6.84735070e-04 -5.98918820e-04 -2.28180432e-04\n",
      "  1.15397231e-03 -2.90687182e-05 -1.03378706e-04 -1.99174956e-05\n",
      "  7.83435187e-04  4.68637142e-05 -8.92361708e-04  1.67441512e-04\n",
      " -1.35248577e-03  9.22674749e-04 -1.25098260e-04  4.42054736e-04\n",
      "  4.39672120e-04  4.33089356e-04  1.29096747e-03 -1.05751209e-03\n",
      " -7.02417036e-04 -1.14534525e-04 -7.81487303e-06  8.38832436e-04\n",
      "  4.36047716e-04  7.13912614e-04 -2.76590161e-04  1.25086902e-03\n",
      " -9.15227037e-04 -8.93380100e-04 -7.77340007e-04 -6.68881602e-06\n",
      "  4.45144712e-04 -1.28888943e-03  1.20407056e-03 -4.38034763e-04\n",
      "  2.32326512e-04 -1.84914126e-04  4.26007026e-05  1.30336280e-03\n",
      "  1.11799519e-04  4.12660895e-04  1.00955882e-04 -5.55736596e-04\n",
      "  1.15507446e-03 -3.40394536e-03 -9.08039792e-05  2.00288083e-03\n",
      " -1.45359314e-04  3.70345833e-04  4.77690715e-04  3.10022817e-04\n",
      " -1.95793730e-04 -4.97396515e-04 -1.61779490e-04 -1.06049395e-04\n",
      " -2.94803113e-04  3.75583978e-04  3.14380188e-04  3.42958432e-04\n",
      " -1.67519590e-03 -1.67767840e-04 -5.30719394e-04  4.59771239e-04\n",
      " -4.37509836e-05 -3.31928689e-04 -5.48762990e-04  2.29249496e-03\n",
      " -4.04891604e-04 -1.81581983e-04 -1.40587716e-03  2.73446039e-05\n",
      " -6.47442868e-04 -4.46905535e-04 -7.05573317e-04  2.01263584e-04\n",
      "  4.26789037e-04  2.93000956e-04  2.16497824e-04 -2.71952898e-04\n",
      " -2.41622918e-04  1.09766741e-04  7.87371293e-04  2.25575785e-04\n",
      "  3.54380360e-04  7.27978154e-05 -2.36934161e-04  1.98904105e-04\n",
      "  7.23535868e-04 -2.43196219e-03  5.98034429e-04  1.57327451e-03\n",
      "  1.08122567e-03 -1.17094371e-04 -4.71220946e-04  3.66712688e-04\n",
      "  4.29671846e-04  3.07156182e-04 -4.11718282e-05  2.59056644e-04\n",
      "  1.16826983e-04 -7.38067303e-05 -3.34469378e-05 -1.55968213e-05\n",
      "  4.28184342e-04 -6.44565978e-04 -2.98320163e-04  1.34563869e-04\n",
      "  3.27872240e-04 -2.97745876e-04 -7.65290349e-04  2.73325638e-04\n",
      " -6.01733670e-04  5.95868601e-04  1.41752167e-03  7.07747283e-04\n",
      "  5.43145197e-04 -5.64631136e-04  5.85816156e-04  3.82553494e-04\n",
      " -3.41413635e-04 -1.93420515e-04 -6.35088998e-04 -1.08761887e-03\n",
      "  5.12134324e-04  8.79209310e-05  1.38758255e-03  3.19223475e-04\n",
      "  3.99431354e-05 -8.88585911e-04  1.69350050e-04  5.10140968e-04\n",
      " -4.60883824e-04 -6.00076846e-04 -1.05707563e-04 -4.54829083e-04\n",
      " -3.28175529e-04  6.84945994e-05 -5.26102706e-04  4.50787452e-04\n",
      "  3.08656078e-04 -4.34476984e-04  7.03818948e-04 -2.77637604e-04\n",
      "  3.24275960e-05  8.76513982e-05  4.95890169e-04  8.82102392e-04\n",
      " -1.48073352e-03  6.39401460e-04 -4.69252985e-04 -3.28198222e-04\n",
      " -1.15530373e-03  3.04350086e-04 -2.73950007e-05  2.25009702e-04\n",
      " -1.96884332e-04 -4.34438164e-04 -4.72274593e-05 -1.83463613e-04\n",
      " -2.41642832e-04 -4.17691956e-04  2.66654721e-05 -6.21556016e-04\n",
      "  3.36784866e-04 -6.11048402e-04  9.50770390e-04  7.42306567e-05\n",
      "  1.75621484e-03 -2.80274764e-04 -5.90873201e-04  1.15495823e-04\n",
      " -3.40719236e-04  2.01775339e-05 -2.09363320e-05 -1.98408169e-05\n",
      " -4.81733189e-04 -1.19830050e-04  5.45811668e-05 -4.88735128e-04\n",
      "  8.71108014e-05  5.03353595e-04 -4.18033437e-05  5.07486805e-04\n",
      "  5.21286037e-04 -3.72557295e-04  7.58403328e-05  4.39353673e-04\n",
      "  3.85725246e-04 -1.26909165e-04 -6.17479253e-04  2.85459279e-04\n",
      " -1.47036529e-04 -8.98368096e-05  1.82597506e-04  3.84098077e-04\n",
      " -2.56091178e-04  5.31344499e-05 -1.64607328e-04 -4.07403796e-04\n",
      "  9.00789400e-04  1.42790845e-03 -1.49951496e-03 -1.36828499e-04\n",
      " -4.91731474e-05  8.03045733e-04  4.87177176e-05 -2.38708968e-04\n",
      " -2.39758062e-04  4.52676791e-04 -1.96714381e-04  6.21737952e-04\n",
      "  4.17302290e-04  1.58427011e-03 -1.41604986e-03  9.89000074e-04\n",
      "  6.70579608e-04 -1.97232610e-03 -1.40530726e-04  2.12148607e-04\n",
      " -2.98354123e-05  7.99839154e-04 -1.47140495e-04  1.17101028e-04\n",
      "  3.06070833e-04  4.09009493e-04 -1.77146338e-04  5.55351493e-04\n",
      " -1.58841687e-04  1.42154366e-03 -1.10812243e-03 -5.90486789e-04\n",
      "  6.78872950e-04 -1.68632902e-04  4.52055326e-04 -2.01601042e-04\n",
      "  4.96448547e-04 -4.81967690e-05 -2.37816664e-05 -3.59868996e-04\n",
      "  1.25058069e-04 -2.94371013e-04  1.59662348e-05 -6.99133869e-04\n",
      "  7.80054293e-04  1.33878441e-04 -5.62010509e-04 -2.91016561e-04\n",
      "  8.39878386e-04 -4.98331106e-04 -4.83724387e-05  4.94889311e-04\n",
      " -2.35158904e-04  1.04909704e-04 -1.32621241e-03  4.00270624e-04\n",
      "  4.45199245e-04  9.83390980e-04  1.67732678e-04 -2.74075516e-05\n",
      " -2.17181180e-04 -2.60930026e-04  2.37749328e-04  1.06235144e-03\n",
      "  1.45880346e-04 -2.46546669e-04 -2.56596563e-04  9.89623646e-04\n",
      "  1.16366941e-04  7.81136524e-05  2.69500575e-05 -4.11468202e-04\n",
      "  2.99590513e-04 -3.66543858e-04 -4.64627389e-04 -5.81738027e-04\n",
      "  1.31149739e-03  5.56838044e-04  1.14826981e-03  2.38059057e-05\n",
      " -4.72063846e-04 -5.44180166e-04 -8.30687796e-04  1.17337051e-03\n",
      "  1.87875450e-04 -5.04621159e-04  1.27816525e-03  3.68283833e-05\n",
      "  1.25369731e-04  1.12712762e-04 -1.28563498e-03  1.23376623e-03\n",
      "  2.50691396e-04 -6.88120146e-04 -4.20969981e-04  6.95890319e-04\n",
      " -7.87545765e-04 -1.59055601e-04  1.64987611e-04 -8.51474776e-04\n",
      "  1.06538052e-03 -5.22321300e-04 -4.17126173e-04  3.91406189e-04\n",
      " -8.33933978e-04  4.02746662e-03  2.69208657e-04 -9.46145326e-04\n",
      " -2.23701474e-03  5.43579803e-04 -1.20731756e-03 -3.03608463e-04\n",
      "  1.85422491e-03  1.45237794e-03  2.21809848e-04  3.02083025e-03\n",
      "  1.40078966e-03 -3.53191041e-03 -4.36608245e-04 -2.27989846e-03\n",
      " -1.08025159e-03 -1.37062318e-04  1.30842150e-03  1.76116588e-03]\n",
      "Intercept of linear regression model 114.14880952729548\n",
      "Mean Square Error 5.388401684555834\n",
      "True value for the first player in the test set in millions is : 0.675\n",
      "Predicted value for the first player in the test set in millions is : 0.0915216979174005\n"
     ]
    }
   ],
   "source": [
    "import numpy as np\n",
    "import pandas as pd\n",
    "import seaborn as sns\n",
    "import matplotlib.pyplot as plt\n",
    "from sklearn import linear_model\n",
    "from sklearn import metrics\n",
    "from sklearn.model_selection import train_test_split\n",
    "from sklearn.preprocessing import PolynomialFeatures\n",
    "\n",
    "#Load players data\n",
    "data = pd.read_csv('fifa19.csv')\n",
    "#Drop the rows that contain missing values\n",
    "data.dropna(how='any',inplace=True)\n",
    "fifa_data=data.iloc[:,:]\n",
    "X=data.iloc[:,1:40] #Features\n",
    "Y=data['Value'] #Label\n",
    "cols=('Nationality','Club','Position')\n",
    "X=Feature_Encoder(X,cols);\n",
    "\n",
    "#Split the data to training and testing sets\n",
    "X_train, X_test, y_train, y_test = train_test_split(X, Y, test_size = 0.30)\n",
    "#Get the correlation between the features\n",
    "corr = fifa_data.corr()\n",
    "#Top 50% Correlation training features with the Value\n",
    "top_feature = corr.index[abs(corr['Value']>0.5)]\n",
    "#Correlation plot\n",
    "plt.subplots(figsize=(12, 8))\n",
    "top_corr = fifa_data[top_feature].corr()\n",
    "sns.heatmap(top_corr, annot=True)\n",
    "plt.show()\n",
    "\n",
    "poly_features = PolynomialFeatures(degree=2)\n",
    "\n",
    "# transforms the existing features to higher degree features.\n",
    "X_train_poly = poly_features.fit_transform(X_train)\n",
    "\n",
    "# fit the transformed features to Linear Regression\n",
    "poly_model = linear_model.LinearRegression()\n",
    "poly_model.fit(X_train_poly, y_train)\n",
    "\n",
    "# predicting on training data-set\n",
    "y_train_predicted = poly_model.predict(X_train_poly)\n",
    "\n",
    "# predicting on test data-set\n",
    "prediction = poly_model.predict(poly_features.fit_transform(X_test))\n",
    "\n",
    "\n",
    "print('Co-efficient of linear regression',poly_model.coef_)\n",
    "print('Intercept of linear regression model',poly_model.intercept_)\n",
    "print('Mean Square Error', metrics.mean_squared_error(y_test, prediction))\n",
    "\n",
    "true_player_value=np.asarray(y_test)[0]\n",
    "predicted_player_value=prediction[0]\n",
    "print('True value for the first player in the test set in millions is : ' + str(true_player_value))\n",
    "print('Predicted value for the first player in the test set in millions is : ' + str(predicted_player_value))"
   ]
  }
 ],
 "metadata": {
  "accelerator": "GPU",
  "colab": {
   "collapsed_sections": [],
   "name": "Session 4 - Machine Learning Basics.ipynb",
   "provenance": []
  },
  "gpuClass": "standard",
  "kernelspec": {
   "display_name": "Python 3 (ipykernel)",
   "language": "python",
   "name": "python3"
  },
  "language_info": {
   "codemirror_mode": {
    "name": "ipython",
    "version": 3
   },
   "file_extension": ".py",
   "mimetype": "text/x-python",
   "name": "python",
   "nbconvert_exporter": "python",
   "pygments_lexer": "ipython3",
   "version": "3.9.7"
  }
 },
 "nbformat": 4,
 "nbformat_minor": 1
}
